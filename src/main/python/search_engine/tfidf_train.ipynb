{
 "cells": [
  {
   "cell_type": "markdown",
   "metadata": {},
   "source": [
    "<h3>Import các thư viện</h3>"
   ]
  },
  {
   "cell_type": "code",
   "execution_count": 1,
   "metadata": {},
   "outputs": [],
   "source": [
    "from preprocess import Preprocessor\n",
    "import pandas as pd # type: ignore\n",
    "from sklearn.feature_extraction.text import TfidfVectorizer # type: ignore\n",
    "import pickle\n",
    "\n",
    "import warnings\n",
    "\n",
    "# Bỏ qua tất cả các cảnh báo\n",
    "warnings.filterwarnings(\"ignore\")\n",
    "\n",
    "import logging\n",
    "\n",
    "logging.basicConfig(format='%(asctime)s : %(levelname)s : %(message)s', level=logging.INFO)\n",
    "\n"
   ]
  },
  {
   "cell_type": "markdown",
   "metadata": {},
   "source": [
    "<h3>Import file CSV</h3>"
   ]
  },
  {
   "cell_type": "code",
   "execution_count": 2,
   "metadata": {},
   "outputs": [
    {
     "data": {
      "text/html": [
       "<div>\n",
       "<style scoped>\n",
       "    .dataframe tbody tr th:only-of-type {\n",
       "        vertical-align: middle;\n",
       "    }\n",
       "\n",
       "    .dataframe tbody tr th {\n",
       "        vertical-align: top;\n",
       "    }\n",
       "\n",
       "    .dataframe thead th {\n",
       "        text-align: right;\n",
       "    }\n",
       "</style>\n",
       "<table border=\"1\" class=\"dataframe\">\n",
       "  <thead>\n",
       "    <tr style=\"text-align: right;\">\n",
       "      <th></th>\n",
       "      <th>Article title</th>\n",
       "      <th>Content</th>\n",
       "      <th>Creation date</th>\n",
       "      <th>Author</th>\n",
       "      <th>Category</th>\n",
       "      <th>Tags</th>\n",
       "    </tr>\n",
       "  </thead>\n",
       "  <tbody>\n",
       "    <tr>\n",
       "      <th>0</th>\n",
       "      <td>transfer learn vs fine tune llms key difference</td>\n",
       "      <td>prominent technique define functionality langu...</td>\n",
       "      <td>2024-03-29 00:00:00</td>\n",
       "      <td>james howell</td>\n",
       "      <td>comparison</td>\n",
       "      <td>NaN</td>\n",
       "    </tr>\n",
       "    <tr>\n",
       "      <th>1</th>\n",
       "      <td>start career cryptocurrency</td>\n",
       "      <td>rise blockchain technology cryptocurrencies no...</td>\n",
       "      <td>2024-03-29 00:00:00</td>\n",
       "      <td>georgia weston</td>\n",
       "      <td>career guide</td>\n",
       "      <td>NaN</td>\n",
       "    </tr>\n",
       "    <tr>\n",
       "      <th>2</th>\n",
       "      <td>benefit decentralize exchange</td>\n",
       "      <td>crypto economy decentralize exchange revolutio...</td>\n",
       "      <td>2024-03-28 00:00:00</td>\n",
       "      <td>james howell</td>\n",
       "      <td>guide</td>\n",
       "      <td>NaN</td>\n",
       "    </tr>\n",
       "    <tr>\n",
       "      <th>3</th>\n",
       "      <td>web 3 development 101 understand basic decentr...</td>\n",
       "      <td>consistent evolution internet major highlight ...</td>\n",
       "      <td>2024-03-28 00:00:00</td>\n",
       "      <td>georgia weston</td>\n",
       "      <td>web 3</td>\n",
       "      <td>NaN</td>\n",
       "    </tr>\n",
       "    <tr>\n",
       "      <th>4</th>\n",
       "      <td>unlock future web 3 datum scientist machine le...</td>\n",
       "      <td>domain technology evolve unprecedented rate ev...</td>\n",
       "      <td>2024-03-27 00:00:00</td>\n",
       "      <td>james howell</td>\n",
       "      <td>web 3</td>\n",
       "      <td>NaN</td>\n",
       "    </tr>\n",
       "  </tbody>\n",
       "</table>\n",
       "</div>"
      ],
      "text/plain": [
       "                                       Article title  \\\n",
       "0    transfer learn vs fine tune llms key difference   \n",
       "1                        start career cryptocurrency   \n",
       "2                      benefit decentralize exchange   \n",
       "3  web 3 development 101 understand basic decentr...   \n",
       "4  unlock future web 3 datum scientist machine le...   \n",
       "\n",
       "                                             Content        Creation date  \\\n",
       "0  prominent technique define functionality langu...  2024-03-29 00:00:00   \n",
       "1  rise blockchain technology cryptocurrencies no...  2024-03-29 00:00:00   \n",
       "2  crypto economy decentralize exchange revolutio...  2024-03-28 00:00:00   \n",
       "3  consistent evolution internet major highlight ...  2024-03-28 00:00:00   \n",
       "4  domain technology evolve unprecedented rate ev...  2024-03-27 00:00:00   \n",
       "\n",
       "           Author      Category Tags  \n",
       "0    james howell    comparison  NaN  \n",
       "1  georgia weston  career guide  NaN  \n",
       "2    james howell         guide  NaN  \n",
       "3  georgia weston         web 3  NaN  \n",
       "4    james howell         web 3  NaN  "
      ]
     },
     "execution_count": 2,
     "metadata": {},
     "output_type": "execute_result"
    }
   ],
   "source": [
    "relative_path = \"../../resources/data/preprocessed_data.csv\"\n",
    "\n",
    "df = pd.read_csv(relative_path)\n",
    "\n",
    "df.head()"
   ]
  },
  {
   "cell_type": "markdown",
   "metadata": {},
   "source": [
    "<h3>Đánh trọng số cho từng cột</h3>"
   ]
  },
  {
   "cell_type": "code",
   "execution_count": 3,
   "metadata": {},
   "outputs": [],
   "source": [
    "column_weights = {\n",
    "    ' Author': 1,\n",
    "    ' Content': 1,\n",
    "    ' Category': 1,\n",
    "    ' Article title': 3\n",
    "}"
   ]
  },
  {
   "cell_type": "markdown",
   "metadata": {},
   "source": [
    "<h3>Khởi tạo tfidf vectorizer</h3>"
   ]
  },
  {
   "cell_type": "code",
   "execution_count": 4,
   "metadata": {},
   "outputs": [],
   "source": [
    "vectorizer = TfidfVectorizer(stop_words='english')\n",
    "\n",
    "data = \"\"\n",
    "for column, weight in column_weights.items():\n",
    "    for i in range(weight):\n",
    "        data += df[column].astype(str) + \" \" # data += cột * trọng số (mỗi cột i xuất hiện weight_i lần)\n",
    "\n",
    "tfidf_matrix = vectorizer.fit_transform(data)\n"
   ]
  },
  {
   "cell_type": "markdown",
   "metadata": {},
   "source": [
    "<h3>Lưu model</h3>"
   ]
  },
  {
   "cell_type": "code",
   "execution_count": null,
   "metadata": {},
   "outputs": [],
   "source": [
    "pickle.dump(tfidf_matrix, open(\"models/tfidf/tfidf_matrix.sav\", 'wb'))\n",
    "pickle.dump(vectorizer, open(\"models/tfidf/vectorizer.sav\", \"wb\"))\n"
   ]
  },
  {
   "cell_type": "code",
   "execution_count": null,
   "metadata": {},
   "outputs": [],
   "source": [
    "title_vectorizer = TfidfVectorizer(stop_words='english')\n",
    "\n",
    "title_tfidf_matrix = title_vectorizer.fit_transform(df[' Article title'])\n"
   ]
  },
  {
   "cell_type": "code",
   "execution_count": null,
   "metadata": {},
   "outputs": [],
   "source": [
    "pickle.dump(title_tfidf_matrix, open(\"models/tfidf/title_tfidf_matrix.sav\", 'wb'))\n",
    "pickle.dump(title_vectorizer, open(\"models/tfidf/title_vectorizer.sav\", \"wb\"))\n"
   ]
  }
 ],
 "metadata": {
  "kernelspec": {
   "display_name": "base",
   "language": "python",
   "name": "python3"
  },
  "language_info": {
   "codemirror_mode": {
    "name": "ipython",
    "version": 3
   },
   "file_extension": ".py",
   "mimetype": "text/x-python",
   "name": "python",
   "nbconvert_exporter": "python",
   "pygments_lexer": "ipython3",
   "version": "3.10.14"
  }
 },
 "nbformat": 4,
 "nbformat_minor": 2
}
