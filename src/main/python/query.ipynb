{
 "cells": [
  {
   "cell_type": "markdown",
   "metadata": {},
   "source": [
    "<h3>Vào thư mục search_engine để lấy preprocessor</h3>"
   ]
  },
  {
   "cell_type": "code",
   "execution_count": 1,
   "metadata": {},
   "outputs": [
    {
     "name": "stdout",
     "output_type": "stream",
     "text": [
      "d:\\Projects\\Python\\OOP-PROJECT-G4\\src\\main\\python\\search_engine\n"
     ]
    }
   ],
   "source": [
    "%cd search_engine/\n",
    "from preprocess import Preprocessor # type: ignore"
   ]
  },
  {
   "cell_type": "markdown",
   "metadata": {},
   "source": [
    "<h3>Import các thư viện</h3>"
   ]
  },
  {
   "cell_type": "code",
   "execution_count": 2,
   "metadata": {},
   "outputs": [],
   "source": [
    "import pandas as pd # type: ignore\n",
    "from gensim.models.doc2vec import Doc2Vec # type: ignore\n",
    "from sklearn.metrics.pairwise import cosine_similarity\n",
    "from joblib import dump, load\n",
    "import Levenshtein\n",
    "from sklearn.feature_extraction.text import TfidfVectorizer\n"
   ]
  },
  {
   "cell_type": "markdown",
   "metadata": {},
   "source": [
    "<h3>Về thư mục gốc</h3>"
   ]
  },
  {
   "cell_type": "code",
   "execution_count": 3,
   "metadata": {},
   "outputs": [
    {
     "name": "stdout",
     "output_type": "stream",
     "text": [
      "d:\\Projects\\Python\\OOP-PROJECT-G4\\src\\main\\python\n"
     ]
    }
   ],
   "source": [
    "%cd ../"
   ]
  },
  {
   "cell_type": "markdown",
   "metadata": {},
   "source": [
    "<h3>Load model Doc2Vec của gensim và gọi Preprocessor</h3>"
   ]
  },
  {
   "cell_type": "code",
   "execution_count": 4,
   "metadata": {},
   "outputs": [],
   "source": [
    "doc2vec_model = Doc2Vec.load('search_engine/models/doc2vec_model.model')\n",
    "\n",
    "preprocessor = Preprocessor()\n",
    "\n"
   ]
  },
  {
   "cell_type": "markdown",
   "metadata": {},
   "source": [
    "<h3>Tải file CSV</h3>"
   ]
  },
  {
   "cell_type": "code",
   "execution_count": 5,
   "metadata": {},
   "outputs": [
    {
     "data": {
      "text/html": [
       "<div>\n",
       "<style scoped>\n",
       "    .dataframe tbody tr th:only-of-type {\n",
       "        vertical-align: middle;\n",
       "    }\n",
       "\n",
       "    .dataframe tbody tr th {\n",
       "        vertical-align: top;\n",
       "    }\n",
       "\n",
       "    .dataframe thead th {\n",
       "        text-align: right;\n",
       "    }\n",
       "</style>\n",
       "<table border=\"1\" class=\"dataframe\">\n",
       "  <thead>\n",
       "    <tr style=\"text-align: right;\">\n",
       "      <th></th>\n",
       "      <th>Article link</th>\n",
       "      <th>Website source</th>\n",
       "      <th>Article type</th>\n",
       "      <th>Article title</th>\n",
       "      <th>Content</th>\n",
       "      <th>Creation date</th>\n",
       "      <th>Author</th>\n",
       "      <th>Category</th>\n",
       "      <th>Tags</th>\n",
       "      <th>Summary</th>\n",
       "      <th>Temp</th>\n",
       "    </tr>\n",
       "  </thead>\n",
       "  <tbody>\n",
       "    <tr>\n",
       "      <th>0</th>\n",
       "      <td>https://www.theblock.co/post/285730/custodia-i...</td>\n",
       "      <td>https://www.theblock.co</td>\n",
       "      <td>News Article</td>\n",
       "      <td>Custodia is not entitled to a Fed master accou...</td>\n",
       "      <td>The Federal Reserve does not have to give digi...</td>\n",
       "      <td>March 29, 2024, 7:05PM EDT</td>\n",
       "      <td>Sarah Wynn</td>\n",
       "      <td>Policy</td>\n",
       "      <td>COURT HEARINGS-LAWSUITS</td>\n",
       "      <td>Custodia Bank sued the central bank in 2022 fo...</td>\n",
       "      <td>NaN</td>\n",
       "    </tr>\n",
       "    <tr>\n",
       "      <th>1</th>\n",
       "      <td>https://www.theblock.co/post/285724/multicoin-...</td>\n",
       "      <td>https://www.theblock.co</td>\n",
       "      <td>News Article</td>\n",
       "      <td>Multicoin Capital's hedge fund has grown 9,281...</td>\n",
       "      <td>Multicoin Capital’s crypto-focused hedge fund ...</td>\n",
       "      <td>March 29, 2024, 7:00PM EDT UPDATED: March 29, ...</td>\n",
       "      <td>Elizabeth Napolitano</td>\n",
       "      <td>Companies</td>\n",
       "      <td>INVESTMENT FIRMS</td>\n",
       "      <td>Multicoin Capital’s hedge fund has returned 9,...</td>\n",
       "      <td>NaN</td>\n",
       "    </tr>\n",
       "    <tr>\n",
       "      <th>2</th>\n",
       "      <td>https://www.theblock.co/post/285702/1kx-raise-...</td>\n",
       "      <td>https://www.theblock.co</td>\n",
       "      <td>News Article</td>\n",
       "      <td>1kx raises $75 million in latest funding round</td>\n",
       "      <td>1kx has raised $75 million, the latest sign in...</td>\n",
       "      <td>March 29, 2024, 3:20PM EDT</td>\n",
       "      <td>Elizabeth Napolitano</td>\n",
       "      <td>Companies</td>\n",
       "      <td>NaN</td>\n",
       "      <td>Investment firm 1kx has raised $75 million for...</td>\n",
       "      <td>NaN</td>\n",
       "    </tr>\n",
       "    <tr>\n",
       "      <th>3</th>\n",
       "      <td>https://www.theblock.co/post/285690/cftc-commi...</td>\n",
       "      <td>https://www.theblock.co</td>\n",
       "      <td>News Article</td>\n",
       "      <td>CFTC Commissioner Pham says agency may be infr...</td>\n",
       "      <td>One of the Commodity Futures Trading Commissio...</td>\n",
       "      <td>March 29, 2024, 12:06PM EDT</td>\n",
       "      <td>Sarah Wynn</td>\n",
       "      <td>Exchanges</td>\n",
       "      <td>CFTC-SEC</td>\n",
       "      <td>The agency’s complaint “appears to assert that...</td>\n",
       "      <td>NaN</td>\n",
       "    </tr>\n",
       "    <tr>\n",
       "      <th>4</th>\n",
       "      <td>https://www.theblock.co/post/285608/bitcoin-fu...</td>\n",
       "      <td>https://www.theblock.co</td>\n",
       "      <td>News Article</td>\n",
       "      <td>Bitcoin futures open interest reaches new high...</td>\n",
       "      <td>Open interest for bitcoin futures on centraliz...</td>\n",
       "      <td>March 29, 2024, 11:03AM EDT UPDATED: March 29,...</td>\n",
       "      <td>Vishal Chawla</td>\n",
       "      <td>The Block</td>\n",
       "      <td>NaN</td>\n",
       "      <td>Bitcoin futures open interest on centralized e...</td>\n",
       "      <td>NaN</td>\n",
       "    </tr>\n",
       "  </tbody>\n",
       "</table>\n",
       "</div>"
      ],
      "text/plain": [
       "                                        Article link           Website source  \\\n",
       "0  https://www.theblock.co/post/285730/custodia-i...  https://www.theblock.co   \n",
       "1  https://www.theblock.co/post/285724/multicoin-...  https://www.theblock.co   \n",
       "2  https://www.theblock.co/post/285702/1kx-raise-...  https://www.theblock.co   \n",
       "3  https://www.theblock.co/post/285690/cftc-commi...  https://www.theblock.co   \n",
       "4  https://www.theblock.co/post/285608/bitcoin-fu...  https://www.theblock.co   \n",
       "\n",
       "   Article type                                      Article title  \\\n",
       "0  News Article  Custodia is not entitled to a Fed master accou...   \n",
       "1  News Article  Multicoin Capital's hedge fund has grown 9,281...   \n",
       "2  News Article     1kx raises $75 million in latest funding round   \n",
       "3  News Article  CFTC Commissioner Pham says agency may be infr...   \n",
       "4  News Article  Bitcoin futures open interest reaches new high...   \n",
       "\n",
       "                                             Content  \\\n",
       "0  The Federal Reserve does not have to give digi...   \n",
       "1  Multicoin Capital’s crypto-focused hedge fund ...   \n",
       "2  1kx has raised $75 million, the latest sign in...   \n",
       "3  One of the Commodity Futures Trading Commissio...   \n",
       "4  Open interest for bitcoin futures on centraliz...   \n",
       "\n",
       "                                       Creation date                Author  \\\n",
       "0                         March 29, 2024, 7:05PM EDT            Sarah Wynn   \n",
       "1  March 29, 2024, 7:00PM EDT UPDATED: March 29, ...  Elizabeth Napolitano   \n",
       "2                         March 29, 2024, 3:20PM EDT  Elizabeth Napolitano   \n",
       "3                        March 29, 2024, 12:06PM EDT            Sarah Wynn   \n",
       "4  March 29, 2024, 11:03AM EDT UPDATED: March 29,...         Vishal Chawla   \n",
       "\n",
       "    Category                     Tags  \\\n",
       "0     Policy  COURT HEARINGS-LAWSUITS   \n",
       "1  Companies         INVESTMENT FIRMS   \n",
       "2  Companies                      NaN   \n",
       "3  Exchanges                 CFTC-SEC   \n",
       "4  The Block                      NaN   \n",
       "\n",
       "                                             Summary   Temp  \n",
       "0  Custodia Bank sued the central bank in 2022 fo...    NaN  \n",
       "1  Multicoin Capital’s hedge fund has returned 9,...    NaN  \n",
       "2  Investment firm 1kx has raised $75 million for...    NaN  \n",
       "3  The agency’s complaint “appears to assert that...    NaN  \n",
       "4  Bitcoin futures open interest on centralized e...    NaN  "
      ]
     },
     "execution_count": 5,
     "metadata": {},
     "output_type": "execute_result"
    }
   ],
   "source": [
    "relative_path = \"../resources/data/data.csv\"\n",
    "\n",
    "sample_df = pd.read_csv(relative_path)\n",
    "\n",
    "df = sample_df\n",
    "df.head()"
   ]
  },
  {
   "cell_type": "code",
   "execution_count": 70,
   "metadata": {},
   "outputs": [
    {
     "name": "stdout",
     "output_type": "stream",
     "text": [
      "The closest word to 'sam' is 'sam'\n"
     ]
    }
   ],
   "source": [
    "\n",
    "\n",
    "def find_closest_word(word, model, model_name='Tfidf'):\n",
    "    if model_name == 'Doc2Vec':\n",
    "        vocab = model.wv.key_to_index\n",
    "    elif model_name == 'Tfidf':\n",
    "        vocab = model.vocabulary_\n",
    "    try:\n",
    "        # Kiểm tra xem từ có trong từ điển không\n",
    "        if word in vocab:\n",
    "            return word\n",
    "        else:\n",
    "            # Tìm từ gần nhất trong từ điển sử dụng Levenshtein distance\n",
    "            closest_word = min(vocab, key=lambda x: Levenshtein.distance(word, x))\n",
    "            return closest_word\n",
    "    except KeyError:\n",
    "        # Trong trường hợp từ không tồn tại trong vocab\n",
    "        return None\n",
    "\n",
    "# Demo\n",
    "word = \"sam\"  # Từ không tồn tại trong từ điển\n",
    "closest_word = find_closest_word(word, doc2vec_model, model_name='Doc2Vec')\n",
    "print(f\"The closest word to '{word}' is '{closest_word}'\")\n"
   ]
  },
  {
   "cell_type": "code",
   "execution_count": 42,
   "metadata": {},
   "outputs": [],
   "source": [
    "def search(query):\n",
    "    query = preprocessor.preprocess_text(query)\n",
    "    query = ' '.join(find_closest_word(word=word, model=doc2vec_model, model_name='Doc2Vec') for word in query.split())\n",
    "    inferred_vector = doc2vec_model.infer_vector(query.split())\n",
    "    \n",
    "    sims = doc2vec_model.dv.most_similar([inferred_vector], topn=10)\n",
    "\n",
    "    results = []\n",
    "    for sim in sims:\n",
    "        doc_index = int(sim[0])\n",
    "        similarity = sim[1]\n",
    "        title = df.iloc[doc_index][' Article title']\n",
    "        content = df.iloc[doc_index][' Content']\n",
    "        results.append((doc_index, similarity, title, content))\n",
    "\n",
    "    return results\n",
    "\n"
   ]
  },
  {
   "cell_type": "code",
   "execution_count": 124,
   "metadata": {},
   "outputs": [
    {
     "name": "stdout",
     "output_type": "stream",
     "text": [
      "1877\n",
      "0.7244243621826172\n",
      "Worldcoin price swings accompany twists in OpenAI saga\n",
      "The saga surrounding Sam Altman and OpenAI appears to have triggered significant price action in WLD, the token issued by the crypto project Worldcoin, which Altman also co-founded. WLD has experienced significant volatility over the past few days, with price swings seemingly triggered by news relating to Altman’s post at OpenAI, analysts said. WLD rose 9.1% over the past 24 hours to trade at $2.55 at around 4 p.m. Hong Kong time on Monday, according to CoinGecko data. The token rose 31.4% in the past week. While he’s been ousted as CEO of OpenAI, Altman appears to remain the co-founder and chairman of Tools for Humanity, the developer behind Worldcoin. On Friday, the tech world was shocked by news that Altman had been removed as CEO from OpenAI, the outfit behind ChaptGPT. He has since engaged in negotiations with the board to return to the role. On Sunday night in the U.S., however, the board of directors of OpenAI announced in an internal note to staff that Altman would not be returning to his job and that Emmett Shear, the former CEO of Twitch, will replace Mira Murati as OpenAI’s interim chief executive, according to a New York Times report. Altman was then immediately offered a job at Microsoft — one of the OpenAI investors that had pushed for this return to the AI firm — to lead the software giant’s AI team after he was turned down by OpenAI, Bloomberg reported today. 'We’re extremely excited to share the news that Sam Altman and Greg Brockman, together with colleagues, will be joining Microsoft to lead a new advanced AI research team,' Satya Nadella, chairman and CEO of Microsoft, said today in a post on X. Worldcoin did not immediately respond to The Block's inquiry on whether Microsoft's appointment of Altman would affect his role at Worldcoin. Volatility in WLD price RELATED INDICES See crypto indices While there is no direct connection between OpenAI and Worldcoin besides Altman himself, the market appears to view events at OpenAI as a WLD trading signal, experts said. Justin d'Anethan, head of APAC business development at crypto market maker Keyrock, said that with little clarity on why Altman was fired, “many could speculate on issues with Sam's conduct, any bad behavior or misconduct that could affect the valuation or proper governance of WLD.” Tools for Humanity, the lead developer of the Worldcoin project, was cofounded by Altman, Alex Blania and Max Novendstern in 2019. The project encourages users to prove their identity online by signing up for a World ID via an iris scan. “Altman, who led the largest AI company (OpenAI), is building a proof of humanity network (Worldcoin), while also lobbying in Congress about AI regulation,” Matt Bansinelas, founder of Glass Markets, told The Block. “If the government were to impose regulations around human verification in an AI world, with Altman in charge, Worldcoin could be a viable first option.” The impact of Altman’s fate at OpenAI on WLD's price is clear, d'Anethan added, citing TradingView data. “On the news of his firing, prices dropped over 10% only to recover relatively quickly — either because people understood the issue was more related to a disagreement between the board and Sam than any specific wrongdoing, or, because of the rumors of re-hiring.” Image: TradingView WLD is likely to face more “swings” in the coming few days, said Greta Yuan, head of research of Hong Kong-based digital asset platform VDX. “[With Altman being] the face of Worldcoin, the token may experience swings on the [coming] days depending on the conclusion of this fiasco but will remain popular among its investors.” \n",
      "3412\n",
      "0.7111124992370605\n",
      "Worldcoin co-founder Alex Blania talks about orbs, artificial intelligence and aliens\n",
      "Episode 73 of Season 5 of The Scoop was recorded with The Block's Frank Chaparro and Tools for Humanity CEO Alex Blania. Listen below, and subscribe to The Scoop on Youtube, Apple, Spotify, Google Podcasts, Stitcher, or wherever you listen to podcasts. Please send feedback and revision requests to [email protected]. Alex Blania is the co-founder of Worldcoin and CEO of Tools for Humanity — Worldcoin's lead development company. In this episode, Blania discusses decentralized orb production, Worldcoin's token launch and what comes next for the Worldcoin project. Outline: 01:01 - Why an Orb? 04:52 - Worldcoin & Quantum Resistance 05:44 - What's Next for Worldcoin 07:44 - Worldcoin's Core Product  13:21 - Is Worldcoin Cypherpunk? 16:41 - Decentralizing Orb Production 18:37 - Worldcoin Orb Manufacturing 20:23 - $WLD Token Launch 22:33 - Token Launch Criticisms 27:30 - AI Will Change the Internet 30:18 - Worldcoin and the Metaverse 31:40 - Closing Thoughts \n",
      "522\n",
      "0.709505021572113\n",
      "Worldcoin token drops 5% amid Elon Musk's lawsuit against OpenAI\n",
      "The price of Worldcoin’s WLD -2.43% token dropped approximately 5% over the past 24 hours amid news that Elon Musk has sued OpenAI and its CEO, Sam Altman — who also co-created Worldcoin and remains a board member — for allegedly breaching contractual agreements made in 2015. Musk, the enigmatic leader of Tesla and SpaceX, co-founded OpenAI in 2015 before stepping down from its board in 2018. The lawsuit, which was filed in San Francisco, claims OpenAI’s profit-oriented focus violates the aforementioned contractual agreements, as the company’s efforts to allegedly keep the design of GPT-4 “a complete secret,” Reuters reported. RELATED INDICES See crypto indices Worldcoin’s WLD token has proven to be a proxy bet on OpenAI in the crypto markets, often experiencing volatility when Altman or OpenAI are in the news, despite not being inherently related. While WLD has declined by about 5%, the wider cryptocurrency market capitalization has declined by just less than 1.5% over the same timeframe. \n",
      "1467\n",
      "0.7004052996635437\n",
      "Worldcoin pauses Orb verification in India, Brazil and France: TechCrunch\n",
      "Worldcoin WLD -2.51% , the crypto project co-created by OpenAI CEO Sam Altman, is no longer offering its Orb-verification service in India, Brazil and France — a matter of months since it launched the eyeball-scanning device in the countries, TechCrunch reported. The Worldcoin Foundation told TechCrunch that it expanded the service to many markets this year for “limited time access.” Clarifying the situation, the Worldcoin Foundation told The Block that the Orb rollouts in Brazil and France were only meant to be limited previews and there are plans to launch in those markets in a more ongoing way in 2024. With regard to India, Orb services have been temporarily paused. “World App continues to experience broad adoption in India where thousands download the app each week. Orb-verified proof of personhood services have been temporarily scaled back as the protocol works to develop and roll out a bespoke, safe and orderly process that sufficiently meets the demand for World ID in India,' the Worldcoin Foundation said. Worldcoin is an identity-focused crypto project that uses the Orb devices to scan people’s irises to help them 'verify their humanness.' It uses WLD as an incentive to sign up to the protocol — rewarding users with tokens to receive a “World ID.” The project embarked on a multi-city tour earlier in 2023, showcasing the Orb in locations across North America, Europe, the Middle East and Asia. Pop-up kiosks around the world drove crowds of thousands to sign up and collect the tokens. Almost five million people now have a World ID, and more than 2.5 million have verified their uniqueness with an Orb. Facing regulatory hurdles However, in August, the project was suspended in Kenya — one of its biggest markets — while the country assesses what risks it poses to its population. Worldcoin remains committed to “working with partners globally to ensure it meets regulatory requirements and provides a safe, secure and transparent service for verified humans,” the Worldcoin Foundation told TechCrunch.  When WLD launched in July, its price shot to above $3 before falling to a low of just above $1 in September, drawing criticism from some commentators, who claimed a “low float” structure had created an artificially high price. However, it currently trades at $3.65, up 2.2% over the past 24 hours and 50% over the past month, according to The Block's price page. WLD/USD price chart. Image: The Block/TradingView. World ID 2.0 and Tools For Humanity’s WLD sales Last week, Worldcoin announced integrations with popular platforms, including Telegram, Reddit, Minecraft, Shopify and Mercado Libre, as part of its “World ID 2.0” upgrade. The update 'makes it easier to distinguish between bots and verified humans online while preserving privacy with popular apps and services with new pre-built integrations,' Worldcoin said in a statement. Mexico and Singapore will join the list of locations where people can find Orbs to register for the service, with devices currently available in 12 countries, including the U.S., Germany, Spain and South Korea, according to the Worldcoin website. Earlier this month, The Block reported Worldcoin developer Tools For Humanity was looking to raise more capital through the sale of discounted WLD tokens, holding talks with multiple investors in recent weeks about a potential over-the-counter sale of WLD. Two people familiar with the process said the company wants to raise up to $50 million, with WLD potentially priced at $1 per token — a significant discount to the prevailing spot price. However, another person close to the deal stressed that no terms had been finalized. Updated with clarifications from the Worldcoin Foundation. \n",
      "6068\n",
      "0.6974250078201294\n",
      "Bitcoin mining report: Feb. 01\n",
      "Bitcoin mining stocks tracked by The Block were mostly higher on Wednesday, with 14 gaining and four declining. Bitcoin rose 2% to $23,574 by market close. Here is a look at how the individual miners performed today:  \n",
      "1885\n",
      "0.684420645236969\n",
      "Worldcoin price drops 6% after Sam Altman unseated as OpenAI CEO\n",
      "The price of the token belonging to Worldcoin WLD -2.97% , the cryptocurrency project co-founded by former OpenAI CEO Sam Altman, fell 6% following news that Altman has been removed as CEO from OpenAI. WLD traded hands at $2.03 at around 3:30 p.m. ET. However, the coin fell to $1.91 — a 6% decrease — after news of Altman's removal from the role at around 4:15 p.m. ET. The coin dropped 12.83% over the last 24 hours, according to The Block's Price Page. Worldcoin's WLD price performance within the last 24 hours. Image: The Block's Price Page OpenAI announced that Altman would no longer serve as the firm's CEO or on its board of directors after he was allegedly dishonest in communication.  'Mr. Altman’s departure follows a deliberative review process by the board, which concluded that he was not consistently candid in his communications with the board, hindering its ability to exercise its responsibilities. The board no longer has confidence in his ability to continue leading OpenAI,' the firm wrote in an official release. Worldcoin is a cryptocurrency project that pays people in a cryptocurrency called WLD for scanning their retinas at orbs, with the ultimate goal of building a large-scale identity and financial public network. Worldcoin did not immediately respond to The Block's inquiry as to whether Sam Altman is still at the organization. \n",
      "3520\n",
      "0.6833698153495789\n",
      "France's privacy watchdog looking into Worldcoin's 'questionable' legality: Reuters\n",
      "France's privacy watchdog, Commission nationale de l'informatique et des libertés, stated that it is aware of Worldcoin and said that its biometric data collection 'seems questionable.' 'Worldcoin collected data in France, and the CNIL initiated investigations,' the CNIL told Reuters in an email. Worldcoin is a crypto project from ChatGPT founder Sam Altman that scans users' eyeballs for what it calls privacy-preserving digital identities.  Earlier this week, UK data protection regulator The Information Commissioner's Office said it would inquire into Worldcoin — which claims it complies with all laws and regulations. \n",
      "6492\n",
      "0.6821415424346924\n",
      "Bitcoin mining report: Jan. 9\n",
      "Bitcoin mining stocks tracked by The Block were higher on Monday, with 18 gaining and the other one declining. Bitcoin rose 1.6% to $17,234 by market close. Here is a look at how the individual miners performed today:  \n",
      "6397\n",
      "0.6799824833869934\n",
      "Bitcoin mining report: Jan. 13\n",
      "Bitcoin mining stocks tracked by The Block were mostly higher on Friday, with 13 gaining and the other 5 declining. Bitcoin rose 5.2% to $19,827 by market close. Here is a look at how the individual miners performed today:  \n",
      "3302\n",
      "0.6786344051361084\n",
      "Argentina says it's investigating Worldcoin over data privacy\n",
      "Argentina said earlier this week that a government information agency is launching an investigation into the Worldcoin Foundation, the identity-focused crypto project co-created by Sam Altman. The Public Information Access Agency will 'thoroughly analyze' the processes and practices used in relation to the collection, storage and use of personal data, the government said in a statement. It plans to take unspecified measures to address any problem identified. A number of people had their face and eyes scanned in exchange for compensation at points around the capital city of Buenos Aires and other provinces. 'Cases like this show the need to strengthen the current legal framework regarding the Protection of Personal Data,' the statement said. 'Citizens have the right, whenever personal data is provided, to have clear and accessible information in relation to the transfer, use and purpose for which the data is collected and processed, especially with regard to sensitive data, such as biometrics.'  Kenya had previously suspended project Worldcoin said earlier this week that signups had surged, with verifications rising by more than 100% in the week following the public launch. After signing up more than a quarter of a million people in Kenya, the country suspended the project over concerns about its operations. \n"
     ]
    }
   ],
   "source": [
    "query = \"altman\"\n",
    "\n",
    "for doc_index, similarity, title, content in search(query):\n",
    "    print(doc_index)\n",
    "    print(similarity)\n",
    "    print(title)\n",
    "    print(content)\n"
   ]
  },
  {
   "cell_type": "code",
   "execution_count": 94,
   "metadata": {},
   "outputs": [],
   "source": [
    "tfidf_matrix = load(\"search_engine/models/tfidf/tfidf_matrix.joblib\")\n",
    "vectorizer = load(\"search_engine/models/tfidf/vectorizer.joblib\")"
   ]
  },
  {
   "cell_type": "code",
   "execution_count": 132,
   "metadata": {},
   "outputs": [],
   "source": [
    "def tfidf_query(query):\n",
    "  preprocessed_query = preprocessor.preprocess_text(query)\n",
    "  preprocessed_query = ' '.join(find_closest_word(word=word, model=vectorizer, model_name='Tfidf') for word in preprocessed_query.split())\n",
    "# Tìm kiếm và xác định hàng liên quan nhất\n",
    "  query_vector = vectorizer.transform([preprocessed_query])\n",
    "  similarities = cosine_similarity(query_vector, tfidf_matrix)\n",
    "\n",
    "  # Bước 6: Sắp xếp và hiển thị kết quả\n",
    "  results = []\n",
    "  for idx, sim in enumerate(similarities[0]):\n",
    "      results.append((df.iloc[idx][' Article title'], sim, preprocessed_query))\n",
    "\n",
    "  results.sort(key=lambda x: x[1], reverse=True)\n",
    "\n",
    "  for result in results[:10]:\n",
    "      print(result)"
   ]
  },
  {
   "cell_type": "code",
   "execution_count": 134,
   "metadata": {},
   "outputs": [
    {
     "name": "stdout",
     "output_type": "stream",
     "text": [
      "('Tokens built on Dogecoin result in all-time high in daily transactions', 0.23048885757384516, 'fungible token')\n",
      "('Bitcoin-based BRC-20 tokens combined market value eclipses $900 million', 0.21405454371215185, 'fungible token')\n",
      "('These developers are mashing ERC-20 tokens and NFTs together: Will it work?', 0.19594005696204997, 'fungible token')\n",
      "('Ajna launches oracle and governance-free lending protocol on Ethereum', 0.1886847357021687, 'fungible token')\n",
      "('BRC-20 style tokens are spreading to chains beyond Bitcoin. But why?', 0.17293418632190002, 'fungible token')\n",
      "('Bitcoin-based token activity overtakes regular transactions on the network', 0.17056993150459132, 'fungible token')\n",
      "('Core contributors, investors to unlock 1.3 billion of starknet tokens just two months after it becomes tradable', 0.16842661680947738, 'fungible token')\n",
      "('Bitcoin Ordinals token ORDI jumps 35% over past 24 hours', 0.16765343936954674, 'fungible token')\n",
      "('Starknet token to begin trading on exchanges today', 0.1672002515131088, 'fungible token')\n",
      "('KuCoin and Gate exchanges to list BRC-20 memecoin Sats', 0.16662302868927226, 'fungible token')\n"
     ]
    }
   ],
   "source": [
    "query = \"non-fungible token\"\n",
    "tfidf_query(query)\n"
   ]
  }
 ],
 "metadata": {
  "kernelspec": {
   "display_name": "base",
   "language": "python",
   "name": "python3"
  },
  "language_info": {
   "codemirror_mode": {
    "name": "ipython",
    "version": 3
   },
   "file_extension": ".py",
   "mimetype": "text/x-python",
   "name": "python",
   "nbconvert_exporter": "python",
   "pygments_lexer": "ipython3",
   "version": "3.11.4"
  }
 },
 "nbformat": 4,
 "nbformat_minor": 2
}
