{
 "cells": [
  {
   "cell_type": "markdown",
   "metadata": {},
   "source": [
    "<h3>Vào thư mục search_engine để lấy preprocessor</h3>"
   ]
  },
  {
   "cell_type": "code",
   "execution_count": 2,
   "metadata": {},
   "outputs": [
    {
     "name": "stdout",
     "output_type": "stream",
     "text": [
      "d:\\Projects\\Python\\OOP-PROJECT-G4\\src\\main\\python\\search_engine\n"
     ]
    }
   ],
   "source": [
    "%cd search_engine/\n",
    "from preprocess import Preprocessor # type: ignore\n"
   ]
  },
  {
   "cell_type": "markdown",
   "metadata": {},
   "source": [
    "<h3>Import các thư viện</h3>"
   ]
  },
  {
   "cell_type": "code",
   "execution_count": 3,
   "metadata": {},
   "outputs": [],
   "source": [
    "import pandas as pd # type: ignore\n",
    "from gensim.models.doc2vec import Doc2Vec # type: ignore\n",
    "from sklearn.metrics.pairwise import cosine_similarity\n",
    "from joblib import dump, load\n",
    "from sklearn.feature_extraction.text import TfidfVectorizer\n"
   ]
  },
  {
   "cell_type": "markdown",
   "metadata": {},
   "source": [
    "<h3>Về thư mục gốc</h3>"
   ]
  },
  {
   "cell_type": "code",
   "execution_count": 4,
   "metadata": {},
   "outputs": [
    {
     "name": "stdout",
     "output_type": "stream",
     "text": [
      "d:\\Projects\\Python\\OOP-PROJECT-G4\\src\\main\\python\n"
     ]
    }
   ],
   "source": [
    "%cd ../"
   ]
  },
  {
   "cell_type": "markdown",
   "metadata": {},
   "source": [
    "<h3>Load model Doc2Vec của gensim và gọi Preprocessor</h3>"
   ]
  },
  {
   "cell_type": "code",
   "execution_count": 5,
   "metadata": {},
   "outputs": [],
   "source": [
    "model = Doc2Vec.load('search_engine/models/doc2vec_model.model')\n",
    "\n",
    "preprocessor = Preprocessor()\n",
    "\n"
   ]
  },
  {
   "cell_type": "markdown",
   "metadata": {},
   "source": [
    "<h3>Tải file CSV</h3>"
   ]
  },
  {
   "cell_type": "code",
   "execution_count": 6,
   "metadata": {},
   "outputs": [
    {
     "data": {
      "text/html": [
       "<div>\n",
       "<style scoped>\n",
       "    .dataframe tbody tr th:only-of-type {\n",
       "        vertical-align: middle;\n",
       "    }\n",
       "\n",
       "    .dataframe tbody tr th {\n",
       "        vertical-align: top;\n",
       "    }\n",
       "\n",
       "    .dataframe thead th {\n",
       "        text-align: right;\n",
       "    }\n",
       "</style>\n",
       "<table border=\"1\" class=\"dataframe\">\n",
       "  <thead>\n",
       "    <tr style=\"text-align: right;\">\n",
       "      <th></th>\n",
       "      <th>Article link</th>\n",
       "      <th>Website source</th>\n",
       "      <th>Article type</th>\n",
       "      <th>Article title</th>\n",
       "      <th>Content</th>\n",
       "      <th>Creation date</th>\n",
       "      <th>Author</th>\n",
       "      <th>Category</th>\n",
       "      <th>Tags</th>\n",
       "      <th>Summary</th>\n",
       "      <th>Temp</th>\n",
       "    </tr>\n",
       "  </thead>\n",
       "  <tbody>\n",
       "    <tr>\n",
       "      <th>0</th>\n",
       "      <td>https://www.theblock.co/post/285730/custodia-i...</td>\n",
       "      <td>https://www.theblock.co</td>\n",
       "      <td>News Article</td>\n",
       "      <td>Custodia is not entitled to a Fed master accou...</td>\n",
       "      <td>The Federal Reserve does not have to give digi...</td>\n",
       "      <td>March 29, 2024, 7:05PM EDT</td>\n",
       "      <td>Sarah Wynn</td>\n",
       "      <td>Policy</td>\n",
       "      <td>COURT HEARINGS-LAWSUITS</td>\n",
       "      <td>Custodia Bank sued the central bank in 2022 fo...</td>\n",
       "      <td>NaN</td>\n",
       "    </tr>\n",
       "    <tr>\n",
       "      <th>1</th>\n",
       "      <td>https://www.theblock.co/post/285724/multicoin-...</td>\n",
       "      <td>https://www.theblock.co</td>\n",
       "      <td>News Article</td>\n",
       "      <td>Multicoin Capital's hedge fund has grown 9,281...</td>\n",
       "      <td>Multicoin Capital’s crypto-focused hedge fund ...</td>\n",
       "      <td>March 29, 2024, 7:00PM EDT UPDATED: March 29, ...</td>\n",
       "      <td>Elizabeth Napolitano</td>\n",
       "      <td>Companies</td>\n",
       "      <td>INVESTMENT FIRMS</td>\n",
       "      <td>Multicoin Capital’s hedge fund has returned 9,...</td>\n",
       "      <td>NaN</td>\n",
       "    </tr>\n",
       "    <tr>\n",
       "      <th>2</th>\n",
       "      <td>https://www.theblock.co/post/285702/1kx-raise-...</td>\n",
       "      <td>https://www.theblock.co</td>\n",
       "      <td>News Article</td>\n",
       "      <td>1kx raises $75 million in latest funding round</td>\n",
       "      <td>1kx has raised $75 million, the latest sign in...</td>\n",
       "      <td>March 29, 2024, 3:20PM EDT</td>\n",
       "      <td>Elizabeth Napolitano</td>\n",
       "      <td>Companies</td>\n",
       "      <td>NaN</td>\n",
       "      <td>Investment firm 1kx has raised $75 million for...</td>\n",
       "      <td>NaN</td>\n",
       "    </tr>\n",
       "    <tr>\n",
       "      <th>3</th>\n",
       "      <td>https://www.theblock.co/post/285690/cftc-commi...</td>\n",
       "      <td>https://www.theblock.co</td>\n",
       "      <td>News Article</td>\n",
       "      <td>CFTC Commissioner Pham says agency may be infr...</td>\n",
       "      <td>One of the Commodity Futures Trading Commissio...</td>\n",
       "      <td>March 29, 2024, 12:06PM EDT</td>\n",
       "      <td>Sarah Wynn</td>\n",
       "      <td>Exchanges</td>\n",
       "      <td>CFTC-SEC</td>\n",
       "      <td>The agency’s complaint “appears to assert that...</td>\n",
       "      <td>NaN</td>\n",
       "    </tr>\n",
       "    <tr>\n",
       "      <th>4</th>\n",
       "      <td>https://www.theblock.co/post/285608/bitcoin-fu...</td>\n",
       "      <td>https://www.theblock.co</td>\n",
       "      <td>News Article</td>\n",
       "      <td>Bitcoin futures open interest reaches new high...</td>\n",
       "      <td>Open interest for bitcoin futures on centraliz...</td>\n",
       "      <td>March 29, 2024, 11:03AM EDT UPDATED: March 29,...</td>\n",
       "      <td>Vishal Chawla</td>\n",
       "      <td>The Block</td>\n",
       "      <td>NaN</td>\n",
       "      <td>Bitcoin futures open interest on centralized e...</td>\n",
       "      <td>NaN</td>\n",
       "    </tr>\n",
       "  </tbody>\n",
       "</table>\n",
       "</div>"
      ],
      "text/plain": [
       "                                        Article link           Website source  \\\n",
       "0  https://www.theblock.co/post/285730/custodia-i...  https://www.theblock.co   \n",
       "1  https://www.theblock.co/post/285724/multicoin-...  https://www.theblock.co   \n",
       "2  https://www.theblock.co/post/285702/1kx-raise-...  https://www.theblock.co   \n",
       "3  https://www.theblock.co/post/285690/cftc-commi...  https://www.theblock.co   \n",
       "4  https://www.theblock.co/post/285608/bitcoin-fu...  https://www.theblock.co   \n",
       "\n",
       "   Article type                                      Article title  \\\n",
       "0  News Article  Custodia is not entitled to a Fed master accou...   \n",
       "1  News Article  Multicoin Capital's hedge fund has grown 9,281...   \n",
       "2  News Article     1kx raises $75 million in latest funding round   \n",
       "3  News Article  CFTC Commissioner Pham says agency may be infr...   \n",
       "4  News Article  Bitcoin futures open interest reaches new high...   \n",
       "\n",
       "                                             Content  \\\n",
       "0  The Federal Reserve does not have to give digi...   \n",
       "1  Multicoin Capital’s crypto-focused hedge fund ...   \n",
       "2  1kx has raised $75 million, the latest sign in...   \n",
       "3  One of the Commodity Futures Trading Commissio...   \n",
       "4  Open interest for bitcoin futures on centraliz...   \n",
       "\n",
       "                                       Creation date                Author  \\\n",
       "0                         March 29, 2024, 7:05PM EDT            Sarah Wynn   \n",
       "1  March 29, 2024, 7:00PM EDT UPDATED: March 29, ...  Elizabeth Napolitano   \n",
       "2                         March 29, 2024, 3:20PM EDT  Elizabeth Napolitano   \n",
       "3                        March 29, 2024, 12:06PM EDT            Sarah Wynn   \n",
       "4  March 29, 2024, 11:03AM EDT UPDATED: March 29,...         Vishal Chawla   \n",
       "\n",
       "    Category                     Tags  \\\n",
       "0     Policy  COURT HEARINGS-LAWSUITS   \n",
       "1  Companies         INVESTMENT FIRMS   \n",
       "2  Companies                      NaN   \n",
       "3  Exchanges                 CFTC-SEC   \n",
       "4  The Block                      NaN   \n",
       "\n",
       "                                             Summary   Temp  \n",
       "0  Custodia Bank sued the central bank in 2022 fo...    NaN  \n",
       "1  Multicoin Capital’s hedge fund has returned 9,...    NaN  \n",
       "2  Investment firm 1kx has raised $75 million for...    NaN  \n",
       "3  The agency’s complaint “appears to assert that...    NaN  \n",
       "4  Bitcoin futures open interest on centralized e...    NaN  "
      ]
     },
     "execution_count": 6,
     "metadata": {},
     "output_type": "execute_result"
    }
   ],
   "source": [
    "relative_path = \"../resources/data/data.csv\"\n",
    "\n",
    "sample_df = pd.read_csv(relative_path)\n",
    "\n",
    "df = sample_df\n",
    "df.head()"
   ]
  },
  {
   "cell_type": "code",
   "execution_count": 30,
   "metadata": {},
   "outputs": [],
   "source": [
    "def search(query):\n",
    "    query = preprocessor.preprocess_text(query)\n",
    "    inferred_vector = model.infer_vector(query.split())\n",
    "    \n",
    "    sims = model.dv.most_similar([inferred_vector], topn=10)\n",
    "\n",
    "    results = []\n",
    "    for sim in sims:\n",
    "        doc_index = int(sim[0])\n",
    "        similarity = sim[1]\n",
    "        title = df.iloc[doc_index][' Article title']\n",
    "        content = df.iloc[doc_index][' Content']\n",
    "        results.append((doc_index, similarity, title, content))\n",
    "\n",
    "    return results\n",
    "\n"
   ]
  },
  {
   "cell_type": "code",
   "execution_count": 36,
   "metadata": {},
   "outputs": [
    {
     "name": "stdout",
     "output_type": "stream",
     "text": [
      "1696\n",
      "0.7723720669746399\n",
      "Blur dominates almost 80% of NFT trading volume as market activity spikes\n",
      "The NFT market has seen a spike in activity over the past month, with the majority of the increased trading volume occurring on the Blur BLUR +2.40% marketplace. According to The Block's Data Dashboard, November saw $605 million in Ethereum-based NFT trading. That's up from a monthly trading volume of $306 million in October, an increase of almost 100%. Just four days into December, NFT trading volume for the month has already reached almost $90 million, with nearly $70 million coming from transactions on the Blur NFT marketplace. Shift from OpenSea Since February of this year, the NFT sector has witnessed a notable market share shift from OpenSea to Blur, with the later marketplace now dominating almost 80% of total trading volume in the Ethereum-based NFT market. OpenSea, the NFT marketplace that was once dominant, has been ceding ground and currently holds around only 17% of NFT trading volume. RELATED INDICES See crypto indices According to The Block's Data Dashboard, there has also been an uptick in trading on Solana-based NFT marketplaces, with daily volumes rising throughout November and into December. On Nov. 30, total trading volume across Solana-based NFT markets stood at $9.3 million, a high not seen since April of this year. The majority of this volume was on Tensor, with over $5 million in daily trades. Blur, launched in October 2022, is a zero-fee NFT marketplace designed to cater to the needs of professional NFT traders. Disclaimer: Larry Cermak, CEO of The Block, is an angel investor in Blur. \n",
      "3963\n",
      "0.7032998204231262\n",
      "Ethereum NFT trading volume sees highest spike since February\n",
      "NFT trading volume on the Ethereum blockchain last week had the biggest jump since February. Volume last week rose 63% from the previous one to $88 million, according to calculations based on The Block's Data Dashboard.  Ethereum NFT trading volumes hadn't seen that much of an increase since the final week of February, when they jumped 109%. The contentious Azuki Elementals mint accounted for much of last week's spike, in which the sale of 10,000 NFTs brought the project $37.5 million. \n",
      "5750\n",
      "0.6704053282737732\n",
      "GMT token airdrop on way for early Stepn NFT holders\n",
      "Move-to-earn crypto platform Stepn is set to airdrop its GMT tokens to holders of its Genesis sneaker NFT collection. The airdrop is based on a snapshot taken on Feb. 12. A snapshot is a static record of a blockchain at a particular point in time. Snapshots are used for retroactive airdrops to filter eligible users. In Stepn’s case, the snapshot selected its Genesis sneaker holders. Stepn launched this collection in August 2022. The snapshot criteria also designated holders who had their NFTs in their spending wallets. Users who listed their Genesis sneaker NFTs for sale are not part of the airdrop. GMT token down 7% today. Image: CoinGecko  The airdrop will reward NFT holders with GMT tokens based on the rarity of their sneakers. This will range from 4,000 GMT ($1,800) for uncommon sneakers to 32,000 GMT ($14,400) for NFTs with “epic” rarity. Each NFT represents one airdrop, Stepn said. Stepn said the airdrop is to reward early supporters who held on to their NFTs through the crypto bear market. Some community members, however, faulted the decision to restrict the airdrop to what they described as a small fraction of the project’s community. GMT is currently trading at $0.45, down 7% in the last 24-hour trading period. \n",
      "5312\n",
      "0.6686950325965881\n",
      "Number of traders hits lowest since 2021 amid US banking crisis: The week in NFTs\n",
      "With only about 12,000 ethereum NFT traders active this Saturday, the industry clocked its slowest day in terms of active traders since the fourth quarter of 2021, according to data from DappRadar. The number of traders was down from around 30,000 to 40,000, where it remained for most of February. The volume of total NFT trades also reached its lowest day so far this year, DappRadar said. The drop came on the heels of last week's announcements that Silicon Valley Bank had collapsed while crypto-friendly bank Silvergate said it would 'wind down' operations. RELATED INDICES See crypto indices Other highlights: Trading wasn't down across the board, however. During the last week Polygon sales volumes spiked by more than 60%, according to CryptoSlam!. Mid-month Polygon trading is on pace to equal February’s strong showing of more than $30 million in trading volume. It has been eight months since Polygon's scored a higher month of trading in dollar terms. The largest NFT sale of the week was a set of nine Qing Dynasty plates, which sold for 366,000, according to CryptoSlam!. Blue chip collections nabbed the highest sales volumes with Yuga Labs’ Bored Ape, Sewer Pass and Mutant Ape NFT collections making up the top-three best-selling collections after racking up more than $20 million in combined trading volume. \n",
      "4646\n",
      "0.6578078866004944\n",
      "Elon Musk sends Milady NFT price soaring with Twitter meme\n",
      "Billionaire Twitter owner Elon Musk sent the price of Milady NFTs jumping on Wednesday after he tweeted a Milady meme. “There is no meme. I love you,” the text of the meme read, over an image of a Milady NFT. Shortly after Musk posted, there was an uptick in Milady NFT sales and the floor price of the project. Elon Musk posted a Milady meme on Twitter. RELATED INDICES See crypto indices Sales of Milady NFTs rose 500% over the last 24 hours as of Wednesday afternoon, according to NFT Price Floor, and the floor price was up nearly 50%. The Milady meme is hardly the first time Musk has used Twitter to spark a crypto price spike. The price of Dogecoin shot up last month after Musk changed the platform’s logo to the famed meme of a Shiba Inu dog. Other projects from Remilia Creative, a group of artists behind Milady NFT, were also on the rise on Wednesday. Sales of Redacted Remilio Babies NFTs, for example, were up 660% over the last 24 hours. \n",
      "3164\n",
      "0.6571903228759766\n",
      "Yuga Labs slams OpenSea's shift to optional royalties\n",
      "Yuga Labs intends to sever ties with OpenSea over the NFT platform's shift to a royalty-optional model. 'In light of OpenSea’s announcement yesterday that they will be sunsetting the OpenSea Operator Filter they introduced and moving to an optional creator fees on all secondary sales for all collections by February 2024, Yuga Labs will begin the process of sunsetting support for OpenSea’s SeaPort for all upgradable contracts and any new collections, with the aim of this being complete in February 2024 in tandem with OpenSea’s approach,' Yuga Labs CEO Daniel Alegre wrote in a statement on social media. 'For as much as NFTs have been about users truly owning their digital assets, they’ve also been about empowering creators,' he added. 'Yuga believes in protecting creator royalties so creators are properly compensated for their work.' OpenSea Seaport is the marketplace contract for ERC-721 and ERC-1155 sales, two Ethereum token standards for NFTs.  Yuga Labs royalties In 2022, Yuga Labs's blue-chip NFT projects Bored Ape Yacht Club, Mutant Ape Yacht Club and Otherside brought in around $148 million in royalties, The Block previously reported. Yuga Labs has been known to block marketplaces that do not enforce creator royalties. For instance, Yuga Labs blacklisted royalty-optional platforms like Blur and SudoSwap when it launched its Sewer Pass mint in January. \n",
      "6351\n",
      "0.6560564637184143\n",
      "Bitcoin mining report: Jan. 17\n",
      "Bitcoin mining stocks tracked by The Block were higher on Tuesday, with 17 gaining and the other two declining. Bitcoin rose slightly to $21,317 by market close. Here is a look at how the individual miners performed today:  \n",
      "6316\n",
      "0.6558313369750977\n",
      "Bitcoin mining report: Jan. 18\n",
      "Bitcoin mining stocks tracked by The Block were mostly lower on Wednesday, with one gaining and the other 18 declining. Bitcoin fell 2.6% to $20,781 by market close. Here is a look at how the individual miners performed today:  \n",
      "3536\n",
      "0.6494597792625427\n",
      "Azuki NFT prices down 65% in the month following Elementals drop: Nansen\n",
      "Prices of Azuki NFTs have decreased 65% since the Elementals launch in June, according to data from Nansen. On June 26, the day before the Elementals drop, Azuki prices were hovering around 15 ETH ($28,250). In the month that followed, the floor price plummeted to 5 ETH ($9,724) as of July 27. Azuki trading volume also fell 78% this month. Azuki price and volume activity for the past three months. Photo: Nansen Azuki Elementals drop  Azuki launched a new NFT collection called Elementals on June 27 that saw 10,000 anime-inspired avatars airdropped to existing Azuki brand holders. Another 10,000 were to be offered up from sale, but the collection sold out before the public had a chance to buy an NFT. Azuki acknowledged missteps in the launch, stating 'we missed the mark.' Despite the community controversy, the Elementals drop netted Azuki $51 million in sales — the highest trading volume for the collection since May of 2022. \n",
      "6033\n",
      "0.6457948684692383\n",
      "Bitcoin mining report: Feb. 02\n",
      "Bitcoin mining stocks tracked by The Block were higher on Thursday, with 15 gaining and three declining. Bitcoin rose 1.2% to $23,830 by market close. Here is a look at how the individual miners performed today.  \n"
     ]
    }
   ],
   "source": [
    "query = \"nft\"\n",
    "\n",
    "for doc_index, similarity, title, content in search(query):\n",
    "    print(doc_index)\n",
    "    print(similarity)\n",
    "    print(title)\n",
    "    print(content)\n"
   ]
  },
  {
   "cell_type": "code",
   "execution_count": 9,
   "metadata": {},
   "outputs": [],
   "source": [
    "tfidf_matrix = load(\"search_engine/models/tfidf/tfidf_matrix.joblib\")\n",
    "vectorizer = load(\"search_engine/models/tfidf/vectorizer.joblib\")"
   ]
  },
  {
   "cell_type": "code",
   "execution_count": 10,
   "metadata": {},
   "outputs": [],
   "source": [
    "def tfidf_query(query):\n",
    "  preprocessed_query = preprocessor.preprocess_text(query)\n",
    "\n",
    "# Tìm kiếm và xác định hàng liên quan nhất\n",
    "  query_vector = vectorizer.transform([preprocessed_query])\n",
    "  similarities = cosine_similarity(query_vector, tfidf_matrix)\n",
    "\n",
    "  # Bước 6: Sắp xếp và hiển thị kết quả\n",
    "  results = []\n",
    "  for idx, sim in enumerate(similarities[0]):\n",
    "      results.append((df.iloc[idx][' Article title'], sim))\n",
    "\n",
    "  results.sort(key=lambda x: x[1], reverse=True)\n",
    "\n",
    "  for result in results[:10]:\n",
    "      print(result)"
   ]
  },
  {
   "cell_type": "code",
   "execution_count": 14,
   "metadata": {},
   "outputs": [
    {
     "name": "stdout",
     "output_type": "stream",
     "text": [
      "('Bitcoin, ether rise to close week as altcoins tick higher', 0.39048505235860403)\n",
      "('Moonbirds creator Kevin Rose hacked, at least $1 million in NFTs stolen', 0.33108120217306314)\n",
      "('Bitcoin rises past $45,000 amid US spot bitcoin ETF approval anticipation', 0.3148615400418044)\n",
      "('Crypto market continues to rise, while Silvergate shares seesaw after probe report', 0.3135488098093932)\n",
      "('Bitcoin price rises above $47,000 after SEC approval of spot BTC ETFs', 0.30740423363914404)\n",
      "('Coinbase stock price rises to highest value since May 2022', 0.30524759484625974)\n",
      "('This week in markets: Bitcoin breaks $20,000 as altcoins, crypto stocks surge', 0.30369991826354015)\n",
      "('Bitcoin price rises back above $42,000, causing spike in short liquidations', 0.30238873435709474)\n",
      "(\"Bitcoin rises above $27,000 ahead of Friday's expiring options\", 0.3016264134620358)\n",
      "('Bitcoin flirts with trillion dollar valuation as price rises above $47,000', 0.29919080925300023)\n"
     ]
    }
   ],
   "source": [
    "query = \"bitcoin rise\"\n",
    "tfidf_query(query)"
   ]
  }
 ],
 "metadata": {
  "kernelspec": {
   "display_name": "base",
   "language": "python",
   "name": "python3"
  },
  "language_info": {
   "codemirror_mode": {
    "name": "ipython",
    "version": 3
   },
   "file_extension": ".py",
   "mimetype": "text/x-python",
   "name": "python",
   "nbconvert_exporter": "python",
   "pygments_lexer": "ipython3",
   "version": "3.11.4"
  }
 },
 "nbformat": 4,
 "nbformat_minor": 2
}
